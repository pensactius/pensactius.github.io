{
 "cells": [
  {
   "cell_type": "markdown",
   "id": "ae3e2d5b-460b-497b-9d2b-02214d7a5b2f",
   "metadata": {},
   "source": [
    "## El formato de imágen PPM\n",
    "__PPM__ o __Portable Pixmap Format__ es un formato de imágen ya en desuso pero que tiene un formato muy simple.\n",
    "\n",
    "Consiste en un archivo de texto en formato ASCII con lo que se puede leer (y escribir) con cualquier editor de texto.\n",
    "\n",
    "![PPM Example](https://raytracing.github.io/images/fig-1.01-ppm.jpg)"
   ]
  },
  {
   "cell_type": "markdown",
   "id": "15e138e5-b9a1-4138-b671-c9a9a396e602",
   "metadata": {},
   "source": [
    "### Reto 1a\n",
    "\n",
    "> Para asegurarte de que comprendes cómo funciona el formata PPM crea el ejemplo mostrado arriba con un editor de textos y guárdalo con el nombre `ejemplo.ppm`.\n",
    "\n",
    "> Para visualizar la imágen resultante puedes usar el programa _Gimp_.\n"
   ]
  },
  {
   "cell_type": "markdown",
   "id": "6182eed5-93b9-4890-98bf-7ff5bd61d4b0",
   "metadata": {},
   "source": [
    "### Reto 1b\n",
    "\n",
    "> Crea un programa en python que __muestre por pantalla__ exactamente el contenido del ejemplo anterior. Es decir, \n",
    "> - Muestra el texto `P3`\n",
    "> - En la siguiente línea muestra `3 2`\n",
    "> - En la siguiente línea muestra `255`\n",
    "> - etc.\n"
   ]
  },
  {
   "cell_type": "markdown",
   "id": "b60aef34-06b1-466a-943a-159f93ea2bc5",
   "metadata": {},
   "source": [
    "### Redirección de pantalla\n",
    "\n",
    "El programa anterior no produce ningún archivo que podamos abrir desde _Gimp_. Entonces, ¿cómo podemos comprobar que la imágen resultante es correcta?. \n",
    "\n",
    "La respuesta está en _redireccionar_ todos los mensajes que aparecen por pantalla hacia un archivo. \n",
    "\n",
    "Para eso se usa el símbolo de _redirección_ `>`\n",
    "\n",
    "Suponiendo que el programa anterior lo has llamado `ejemplo.py` para redireccionar su salida teclearías:\n",
    "\n",
    "`ejemplo.py > imagen.ppm`\n",
    "\n",
    "Con esto redireccionas todos los mensajes que aparecían por pantalla hacia el fichero `imagen.ppm`. Ahora sí, puedes abrir este archivo con el programa _Gimp_ y visualizar la imágen resultante."
   ]
  },
  {
   "cell_type": "code",
   "execution_count": 3,
   "id": "a43a9af8-3106-4a52-82ce-2c455d7b7915",
   "metadata": {
    "jupyter": {
     "source_hidden": true
    },
    "tags": []
   },
   "outputs": [
    {
     "name": "stdout",
     "output_type": "stream",
     "text": [
      "P3\n",
      "3 2\n",
      "255\n",
      "255   0 0     0 255   0   0 0 255\n",
      "255 255 0   255 255 255   0 0   0\n"
     ]
    }
   ],
   "source": [
    "print('P3')\n",
    "print('3 2')\n",
    "print('255')\n",
    "print('255   0 0     0 255   0   0 0 255')\n",
    "print('255 255 0   255 255 255   0 0   0')"
   ]
  },
  {
   "cell_type": "markdown",
   "id": "08961d73-f4b7-42b2-a5a7-21bb91e57f89",
   "metadata": {},
   "source": [
    "### Reto 2\n",
    "\n",
    "Crea un programa en python para generar una imágen PPM de 8x8 pixeles como esta:\n",
    "\n",
    "<img src=\"reto2.png\">\n",
    "\n",
    "> La imágen se ha reescalado para que se pueda ver bien en el enunciado, pero en el reto deberás hacerla de 8x8 píxeles.\n",
    "\n",
    "Como reto extra intenta utilizar bucles y el operador de repetición de strings para aquellas líneas que repitan el mismo color en horizontal más de 3 píxeles."
   ]
  },
  {
   "cell_type": "code",
   "execution_count": 39,
   "id": "f1ab1ff4-915e-4f0a-85e2-1c18b762e1c1",
   "metadata": {},
   "outputs": [
    {
     "name": "stdout",
     "output_type": "stream",
     "text": [
      "P3\n",
      "8 8\n",
      "255\n",
      "0 255 0  0 255 0  0 255 0  0 255 0  0 255 0  0 255 0  0 255 0  0 255 0  \n",
      "255 255 0  255 0 0  255 0 0  255 0 0  255 0 0  255 0 0  255 0 0  255 255 0\n",
      "255 255 0  255 0 0  255 0 0  255 0 0  255 0 0  255 0 0  255 0 0  255 255 0\n",
      "255 255 0  255 255 0  25 0 0  25 0 0  255 0 0  255 0 0  255 0 0  255 0 0  \n",
      "255 255 0  255 255 0  255 255 0  255 0 0  255 0 0  255 255 0  255 255 0  255 255 0  \n",
      "255 255 0  255 255 0  255 255 0  255 0 0  255 0 0  255 255 0  255 255 0  255 255 0  \n",
      "0 255 0  0 255 0  0 255 0  255 0 0  255 0 0  0 255 0  0 255 0  0 255 0  \n",
      "0 255 0  0 255 0  0 255 0  25 0 0  25 0 0  0 255 0  0 255 0  0 255 0  \n"
     ]
    }
   ],
   "source": [
    "print('P3')\n",
    "print('8 8')\n",
    "print('255')\n",
    "# fila 1\n",
    "for x in range(8):\n",
    "    print('0 255 0', end='  ')\n",
    "print()\n",
    "\n",
    "# fila 2 y 3\n",
    "for i in range(2):\n",
    "    print('255 255 0  ' + '255 0 0  '*6 + '255 255 0')\n",
    "\n",
    "# fila 4\n",
    "print('255 255 0  '*2 + '25 0 0  '*2 + '255 0 0  '*2 + '255 0 0  '*2)\n",
    "\n",
    "# fila 5 y 6\n",
    "for i in range(2):\n",
    "    print('255 255 0  '*3 + '255 0 0  '*2 + '255 255 0  '*3)\n",
    "\n",
    "# fila 7\n",
    "print('0 255 0  '*3 + '255 0 0  '*2 + '0 255 0  '*3)\n",
    "\n",
    "# fila 8\n",
    "print('0 255 0  '*3 + '25 0 0  '*2 + '0 255 0  '*3)"
   ]
  },
  {
   "cell_type": "code",
   "execution_count": null,
   "id": "72d5e49b-8705-43f4-9ae2-14a929d6a24b",
   "metadata": {},
   "outputs": [],
   "source": []
  }
 ],
 "metadata": {
  "kernelspec": {
   "display_name": "Python 3 (ipykernel)",
   "language": "python",
   "name": "python3"
  },
  "language_info": {
   "codemirror_mode": {
    "name": "ipython",
    "version": 3
   },
   "file_extension": ".py",
   "mimetype": "text/x-python",
   "name": "python",
   "nbconvert_exporter": "python",
   "pygments_lexer": "ipython3",
   "version": "3.10.2"
  }
 },
 "nbformat": 4,
 "nbformat_minor": 5
}
