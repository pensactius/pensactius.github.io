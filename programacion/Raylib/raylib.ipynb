{
 "cells": [
  {
   "cell_type": "code",
   "execution_count": 4,
   "id": "cca5d76c-4ca4-4ca4-b4a6-94bf943f22b1",
   "metadata": {},
   "outputs": [],
   "source": [
    "\"\"\"Hello world in PayRay\"\"\"\n",
    "\n",
    "from pyray import *\n",
    "\n",
    "init_window(800, 450, \"Hello PyRay\")\n",
    "set_target_fps(60)\n",
    "\n",
    "while not window_should_close():\n",
    "    begin_drawing()\n",
    "    \n",
    "    clear_background(RAYWHITE)\n",
    "    draw_text(\"Hello world\", 190, 200, 20, VIOLET)\n",
    "    \n",
    "    end_drawing()\n",
    "\n",
    "close_window()"
   ]
  },
  {
   "cell_type": "code",
   "execution_count": 5,
   "id": "5e75610a-f7ab-4eed-926e-1b32faf78a08",
   "metadata": {},
   "outputs": [],
   "source": [
    "\"\"\"Basic Shapes\"\"\"\n",
    "\n",
    "from pyray import *\n",
    "\n",
    "SCREEN_WIDTH = 800\n",
    "SCREEN_HEIGHT = 480\n",
    "\n",
    "\n",
    "init_window(SCREEN_WIDTH, SCREEN_HEIGHT, \"pyray [shapes) example - \"\n",
    "            + \"basic shapes\")\n",
    "set_target_fps(60)\n",
    "\n",
    "# Main game loop\n",
    "while not window_should_close():\n",
    "    begin_drawing();\n",
    "    \n",
    "    clear_background(RAYWHITE)\n",
    "    \n",
    "    draw_text(\"some basic shapes available on raylib\", 20, 20, 20, DARKGRAY)\n",
    "    \n",
    "    # Circle shapes and lines\n",
    "    draw_circle(160, 120, 35, DARKBLUE)\n",
    "    draw_circle_lines(160, 340, 80, DARKBLUE)\n",
    "    \n",
    "    # Rectangles and lines\n",
    "    draw_rectangle(340, 100, 120, 60, RED)\n",
    "    \n",
    "    end_drawing()\n",
    "    \n",
    "close_window()"
   ]
  },
  {
   "cell_type": "code",
   "execution_count": null,
   "id": "49336d35-bca3-4b30-b23c-cae31ae5b534",
   "metadata": {},
   "outputs": [],
   "source": []
  }
 ],
 "metadata": {
  "kernelspec": {
   "display_name": "Python 3 (ipykernel)",
   "language": "python",
   "name": "python3"
  },
  "language_info": {
   "codemirror_mode": {
    "name": "ipython",
    "version": 3
   },
   "file_extension": ".py",
   "mimetype": "text/x-python",
   "name": "python",
   "nbconvert_exporter": "python",
   "pygments_lexer": "ipython3",
   "version": "3.10.2"
  }
 },
 "nbformat": 4,
 "nbformat_minor": 5
}
