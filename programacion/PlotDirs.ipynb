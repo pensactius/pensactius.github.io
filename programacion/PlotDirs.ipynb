{
 "cells": [
  {
   "cell_type": "code",
   "execution_count": 1,
   "id": "8f2b0743-eaef-4383-b0ba-cb6cc9c49f0d",
   "metadata": {},
   "outputs": [
    {
     "name": "stdout",
     "output_type": "stream",
     "text": [
      "5\n"
     ]
    }
   ],
   "source": [
    "print(2+3)"
   ]
  },
  {
   "cell_type": "code",
   "execution_count": 2,
   "id": "cb6ae011-3b52-4122-a09a-2e7d07f2603b",
   "metadata": {},
   "outputs": [],
   "source": [
    "Person = {\n",
    "    \"name\": \"Andriu\",\n",
    "    \"age\": 44\n",
    "}"
   ]
  },
  {
   "cell_type": "code",
   "execution_count": 3,
   "id": "9886a06b-f289-4ee7-bdbe-59e78a20647e",
   "metadata": {},
   "outputs": [],
   "source": [
    "def print_sheet(p):\n",
    "    str_p = f'''\n",
    "    {p[\"name\"]}, {p[\"age\"]} años.\n",
    "    '''\n",
    "    print(str_p)"
   ]
  },
  {
   "cell_type": "code",
   "execution_count": 4,
   "id": "62dd32c9-cefc-4ca1-9a5e-9b64c3033fef",
   "metadata": {},
   "outputs": [
    {
     "name": "stdout",
     "output_type": "stream",
     "text": [
      "\n",
      "    Andriu, 44 años.\n",
      "    \n"
     ]
    }
   ],
   "source": [
    "print_sheet(Person)"
   ]
  },
  {
   "cell_type": "code",
   "execution_count": 5,
   "id": "65d29c4c-fdb9-491f-b064-80c11c944ac9",
   "metadata": {
    "tags": []
   },
   "outputs": [
    {
     "name": "stdout",
     "output_type": "stream",
     "text": [
      "Current folder /home/andriu/Documents\n",
      "\tPikuma is a subfolder of /home/andriu/Documents\n",
      "\tJupyter is a subfolder of /home/andriu/Documents\n",
      "\tEstacion_Meteorologica_Online.md is a file of /home/andriu/Documents\n",
      "\tEstacion_Meteorologica_Online.html is a file of /home/andriu/Documents\n",
      "\tEstacion_Meteorologica_Online.bkp.md is a file of /home/andriu/Documents\n",
      "\trestore_linux.md is a file of /home/andriu/Documents\n",
      "Current folder /home/andriu/Documents/Pikuma\n",
      "\tAtari 2600 is a subfolder of /home/andriu/Documents/Pikuma\n",
      "Current folder /home/andriu/Documents/Pikuma/Atari 2600\n",
      "\tExercises-211230-170910.pdf is a file of /home/andriu/Documents/Pikuma/Atari 2600\n",
      "Current folder /home/andriu/Documents/Jupyter\n",
      "\t.ipynb_checkpoints is a subfolder of /home/andriu/Documents/Jupyter\n",
      "\tPlotDirs.ipynb is a file of /home/andriu/Documents/Jupyter\n",
      "\tUntitled.ipynb is a file of /home/andriu/Documents/Jupyter\n",
      "Current folder /home/andriu/Documents/Jupyter/.ipynb_checkpoints\n",
      "\tUntitled-checkpoint.ipynb is a file of /home/andriu/Documents/Jupyter/.ipynb_checkpoints\n",
      "\tPlotDirs-checkpoint.ipynb is a file of /home/andriu/Documents/Jupyter/.ipynb_checkpoints\n"
     ]
    }
   ],
   "source": [
    "import os\n",
    "\n",
    "items = []\n",
    "\n",
    "for folder, subfolders, filenames in os.walk('/home/andriu/Documents'):    \n",
    "    print(f'Current folder {folder}')\n",
    "    for subfolder in subfolders:\n",
    "        print(f'\\t{subfolder} is a subfolder of {folder}')\n",
    "    \n",
    "    for filename in filenames:\n",
    "        print(f'\\t{filename} is a file of {folder}')\n",
    "\n",
    "for item in items:\n",
    "    print(item)"
   ]
  },
  {
   "cell_type": "code",
   "execution_count": 13,
   "id": "021113ea-4a7c-4c54-a23a-f0799e0a8ce0",
   "metadata": {},
   "outputs": [
    {
     "name": "stdout",
     "output_type": "stream",
     "text": [
      "{'location': '/home/andriu/Documents', 'name': 'Pikuma', 'type': 'folder'}\n",
      "{'location': '/home/andriu/Documents', 'name': 'Jupyter', 'type': 'folder'}\n",
      "{'location': '/home/andriu/Documents', 'name': 'Estacion_Meteorologica_Online.md', 'type': 'file'}\n",
      "{'location': '/home/andriu/Documents', 'name': 'Estacion_Meteorologica_Online.html', 'type': 'file'}\n",
      "{'location': '/home/andriu/Documents', 'name': 'Estacion_Meteorologica_Online.bkp.md', 'type': 'file'}\n",
      "{'location': '/home/andriu/Documents', 'name': 'restore_linux.md', 'type': 'file'}\n",
      "{'location': '/home/andriu/Documents/Pikuma', 'name': 'Atari 2600', 'type': 'folder'}\n",
      "{'location': '/home/andriu/Documents/Pikuma/Atari 2600', 'name': 'Exercises-211230-170910.pdf', 'type': 'file'}\n",
      "{'location': '/home/andriu/Documents/Jupyter', 'name': '.ipynb_checkpoints', 'type': 'folder'}\n",
      "{'location': '/home/andriu/Documents/Jupyter', 'name': 'PlotDirs.ipynb', 'type': 'file'}\n",
      "{'location': '/home/andriu/Documents/Jupyter', 'name': 'Untitled.ipynb', 'type': 'file'}\n",
      "{'location': '/home/andriu/Documents/Jupyter/.ipynb_checkpoints', 'name': 'Untitled-checkpoint.ipynb', 'type': 'file'}\n",
      "{'location': '/home/andriu/Documents/Jupyter/.ipynb_checkpoints', 'name': 'PlotDirs-checkpoint.ipynb', 'type': 'file'}\n"
     ]
    }
   ],
   "source": [
    "import os\n",
    "\n",
    "items = []\n",
    "\n",
    "for folder, subfolders, filenames in os.walk('/home/andriu/Documents'):\n",
    "    item = {}\n",
    "    item['location'] = folder  \n",
    "    for subfolder in subfolders:\n",
    "        item['name'] = subfolder\n",
    "        item['type'] = 'folder'\n",
    "        items.append(dict(item))\n",
    "        \n",
    "    for filename in filenames:\n",
    "        item['name'] = filename\n",
    "        item['type'] = 'file'\n",
    "        items.append(dict(item))\n",
    "        \n",
    "for i in items:\n",
    "    print(i)"
   ]
  },
  {
   "cell_type": "code",
   "execution_count": null,
   "id": "95c1cd87-0079-4d70-821f-12b199810373",
   "metadata": {
    "tags": []
   },
   "outputs": [],
   "source": []
  },
  {
   "cell_type": "code",
   "execution_count": null,
   "id": "365e0444-89b1-48c6-b789-6bb39c81dc72",
   "metadata": {},
   "outputs": [],
   "source": []
  }
 ],
 "metadata": {
  "kernelspec": {
   "display_name": "Python 3 (ipykernel)",
   "language": "python",
   "name": "python3"
  },
  "language_info": {
   "codemirror_mode": {
    "name": "ipython",
    "version": 3
   },
   "file_extension": ".py",
   "mimetype": "text/x-python",
   "name": "python",
   "nbconvert_exporter": "python",
   "pygments_lexer": "ipython3",
   "version": "3.10.2"
  }
 },
 "nbformat": 4,
 "nbformat_minor": 5
}
