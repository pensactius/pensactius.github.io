{
 "cells": [
  {
   "cell_type": "markdown",
   "id": "018dda9c-f547-41e6-9629-52a433e283c0",
   "metadata": {},
   "source": [
    "# Simulación de Inventario \n",
    "\n",
    "En este reto vas a simular el inventario de un juego. Deberás simular las acciones de coger y \n",
    "dejar objetos así como mostrar el contenido del inventario.\n",
    "\n",
    "En el juego existirán los siguientes elementos que se pueden añadir al inventario:\n",
    "\n",
    "    - Espada\n",
    "    - Armadura de Cuero\n",
    "    - Poción de Vida\n",
    "    - Antídoto\n",
    "    - Cuerda\n",
    "\n",
    "Para representar el inventario de una mochila podemos usar una lista:"
   ]
  },
  {
   "cell_type": "code",
   "execution_count": 4,
   "id": "e774a8a6-4cfb-49e2-96e2-d369f69c14f9",
   "metadata": {},
   "outputs": [],
   "source": [
    "mochila = ['Armadura de Cuero', 'Cuerda']"
   ]
  },
  {
   "cell_type": "markdown",
   "id": "d5d33361-782e-475f-9a59-f358e60d84f8",
   "metadata": {},
   "source": [
    "De la misma forma podemos representar un inventario vacío con una lista vacía:"
   ]
  },
  {
   "cell_type": "code",
   "execution_count": 5,
   "id": "65f1ce35-7a25-4c1f-a7c9-7931f3b74d9a",
   "metadata": {
    "tags": []
   },
   "outputs": [],
   "source": [
    "mochila_2 = []"
   ]
  },
  {
   "cell_type": "markdown",
   "id": "ca19aaad-3a79-4bb3-a702-7d441f1923b9",
   "metadata": {
    "tags": []
   },
   "source": [
    "### Reto 1\n",
    "\n",
    "> Crea una función llamada `muestra_inventario(inv)` que recibe como parámetro un inventario (`inv`) y muestra su contenido por pantalla.\n",
    ">\n",
    "> Si el inventario __está vació__ debe mostrar un mensaje indicándolo.\n",
    ">\n",
    "> Si el inventario no está vació debe mostrar __cuántos objetos hay__ y su __contenido__.\n",
    " "
   ]
  },
  {
   "cell_type": "code",
   "execution_count": 24,
   "id": "8a2e5dc3-aa7e-4d8b-b9db-60d47c51c492",
   "metadata": {
    "tags": []
   },
   "outputs": [
    {
     "name": "stdout",
     "output_type": "stream",
     "text": [
      "<<< Mochila 1 >>>\n",
      "Inventario vacío\n",
      "<<< Mochila 2 >>>\n",
      "Hay 2 objetos\n",
      "Espada\n",
      "Cuerda\n"
     ]
    }
   ],
   "source": [
    "def muestra_inventario(inv):\n",
    "    \"\"\"Muestra el contenido del inventario.\n",
    "    \n",
    "    Si el inventario está vacío muestra un mensaje indicándolo.\n",
    "    Si el inventario no está vacío muestra cuántos objetos hay y su contenido.\n",
    "    \n",
    "    Parámetros\n",
    "        [Entrada] inv: Inventario a mostrar\n",
    "    \"\"\"\n",
    "    # Introduce aquí tu código\n",
    "    \n",
    "    \n",
    "mochila_1 = []\n",
    "mochila_2 = ['Espada', 'Cuerda']\n",
    "\n",
    "print('<<< Mochila 1 >>>')\n",
    "muestra_inventario(mochila_1)\n",
    "print('<<< Mochila 2 >>>')\n",
    "muestra_inventario(mochila_2)"
   ]
  },
  {
   "cell_type": "markdown",
   "id": "05200cd1-216e-478b-9a57-659126845311",
   "metadata": {},
   "source": [
    "### Reto 2\n",
    "\n",
    "> Crea una función llamada `coge_objeto(inv, obj)` donde:\n",
    ">\n",
    "> - inv: Inventario al que añadir el objeto.\n",
    "> - obj: Objeto a añadir al inventario.\n",
    ">\n",
    "> El objeto `obj` se deberá añadir al inventario `inv`.\n",
    ">\n",
    "> Deberás mostrar un mensaje que indique que se está cogiendo el objeto 'obj'.\n",
    ">"
   ]
  },
  {
   "cell_type": "code",
   "execution_count": 49,
   "id": "c549bfc3-4352-4a45-b608-c99ef0154169",
   "metadata": {},
   "outputs": [
    {
     "name": "stdout",
     "output_type": "stream",
     "text": [
      "<<< Mochila 1 >>>\n",
      "Inventario vacío\n",
      "<<< Mochila 2 >>>\n",
      "Inventario vacío\n",
      "--------------------------\n",
      "Añadiendo Espada al inventario\n",
      "<<< Mochila 1 >>>\n",
      "Hay 1 objetos\n",
      "Espada\n",
      "Añadiendo Cuerda al inventario\n",
      "<<< Mochila 1 >>>\n",
      "Hay 2 objetos\n",
      "Espada\n",
      "Cuerda\n",
      "Añadiendo Poción de Vida al inventario\n",
      "<<< Mochila 1 >>>\n",
      "Hay 2 objetos\n",
      "Espada\n",
      "Cuerda\n",
      "<<< Mochila 2 >>>\n",
      "Hay 1 objetos\n",
      "Poción de Vida\n"
     ]
    }
   ],
   "source": [
    "def coge_objeto(inv, obj):\n",
    "    \"\"\"Coge un objeto y lo añade a la mochila.\n",
    "    \n",
    "        inv: Inventario al que añadir el objeto.\n",
    "        obj: Objeto a añadir al inventario.\n",
    "    \"\"\"\n",
    "    # Introduce aquí tu código\n",
    "    print(f'Añadiendo {obj} al inventario')\n",
    "    inv.append(obj)\n",
    "\n",
    "\n",
    "# Tenemos dos mochilas vacías\n",
    "mochila_1 = []\n",
    "mochila_2 = []\n",
    "print('<<< Mochila 1 >>>')\n",
    "muestra_inventario(mochila_1)\n",
    "print('<<< Mochila 2 >>>')\n",
    "muestra_inventario(mochila_2)\n",
    "\n",
    "# Metemos una espada en la mochila 1\n",
    "print('--------------------------')\n",
    "coge_objeto(mochila_1, 'Espada')\n",
    "print('<<< Mochila 1 >>>')\n",
    "muestra_inventario(mochila_1)\n",
    "\n",
    "# Metemos una cuerda en la mochila 1\n",
    "coge_objeto(mochila_1, 'Cuerda')\n",
    "print('<<< Mochila 1 >>>')\n",
    "muestra_inventario(mochila_1)\n",
    "\n",
    "# Metemos una poción de vida en la mochila 2\n",
    "coge_objeto(mochila_2, 'Poción de Vida')\n",
    "\n",
    "print('<<< Mochila 1 >>>')\n",
    "muestra_inventario(mochila_1)\n",
    "print('<<< Mochila 2 >>>')\n",
    "muestra_inventario(mochila_2)"
   ]
  },
  {
   "cell_type": "markdown",
   "id": "7c521e08-a9a5-487c-838a-f03987ac66eb",
   "metadata": {},
   "source": [
    "Experimenta un poco con los dos retos, vé más allá de lo que se pide estrictamente. Sugerencias:\n",
    "\n",
    "- Muestra los objetos en una sóla línea, entre llaves y separado por comas (ej): \n",
    "    (3 Elementos) {Espada, Cuerda, Armadura de Cuero}"
   ]
  },
  {
   "cell_type": "markdown",
   "id": "4ae108b7-b73b-43f8-8382-d1d171d936c7",
   "metadata": {},
   "source": [
    "- ¿Qué pasa después de hacer esto? ¿Cómo lo solucionarías?"
   ]
  },
  {
   "cell_type": "code",
   "execution_count": 52,
   "id": "b2c2b63f-bedb-41a3-949e-cacc3c445a48",
   "metadata": {},
   "outputs": [],
   "source": [
    "mochila = []\n",
    "coge_objeto(mochila, 'Espada')\n",
    "coge_objeto(mochila, 'Espada')\n",
    "muestra_inventario(mochila)\n",
    "\n"
   ]
  }
 ],
 "metadata": {
  "kernelspec": {
   "display_name": "Python 3 (ipykernel)",
   "language": "python",
   "name": "python3"
  },
  "language_info": {
   "codemirror_mode": {
    "name": "ipython",
    "version": 3
   },
   "file_extension": ".py",
   "mimetype": "text/x-python",
   "name": "python",
   "nbconvert_exporter": "python",
   "pygments_lexer": "ipython3",
   "version": "3.10.2"
  }
 },
 "nbformat": 4,
 "nbformat_minor": 5
}
