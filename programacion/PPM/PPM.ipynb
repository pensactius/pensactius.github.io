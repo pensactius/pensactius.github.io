{
 "cells": [
  {
   "cell_type": "markdown",
   "id": "ae3e2d5b-460b-497b-9d2b-02214d7a5b2f",
   "metadata": {},
   "source": [
    "## El formato de imágen PPM\n",
    "__PPM__ o __Portable Pixmap Format__ es un formato de imágen ya en desuso pero que tiene un formato muy simple.\n",
    "\n",
    "Consiste en un archivo de texto en formato ASCII con lo que se puede leer (y escribir) con cualquier editor de texto.\n",
    "\n",
    "![PPM Example](https://raytracing.github.io/images/fig-1.01-ppm.jpg)"
   ]
  },
  {
   "cell_type": "markdown",
   "id": "15e138e5-b9a1-4138-b671-c9a9a396e602",
   "metadata": {},
   "source": [
    "### Reto 1a\n",
    "\n",
    "> Para asegurarte de que comprendes cómo funciona el formata PPM crea el ejemplo mostrado arriba con un editor de textos y guárdalo con el nombre `ejemplo.ppm`.\n",
    "\n",
    "> Para visualizar la imágen resultante puedes usar el programa _Gimp_.\n"
   ]
  },
  {
   "cell_type": "markdown",
   "id": "6182eed5-93b9-4890-98bf-7ff5bd61d4b0",
   "metadata": {},
   "source": [
    "### Reto 1b\n",
    "\n",
    "> Crea un programa en python que __muestre por pantalla__ exactamente el contenido del ejemplo anterior. Es decir, \n",
    "> - Muestra el texto `P3`\n",
    "> - En la siguiente línea muestra `3 2`\n",
    "> - En la siguiente línea muestra `255`\n",
    "> - etc.\n"
   ]
  },
  {
   "cell_type": "markdown",
   "id": "b60aef34-06b1-466a-943a-159f93ea2bc5",
   "metadata": {},
   "source": [
    "### Redirección de pantalla\n",
    "\n",
    "El programa anterior no produce ningún archivo que podamos abrir desde _Gimp_. Entonces, ¿cómo podemos comprobar que la imágen resultante es correcta?. \n",
    "\n",
    "La respuesta está en _redireccionar_ todos los mensajes que aparecen por pantalla hacia un archivo. \n",
    "\n",
    "Para eso se usa el símbolo de _redirección_ `>`\n",
    "\n",
    "Suponiendo que el programa anterior lo has llamado `ejemplo.py` para redireccionar su salida teclearías:\n",
    "\n",
    "`ejemplo.py > imagen.ppm`\n",
    "\n",
    "Con esto redireccionas todos los mensajes que aparecían por pantalla hacia el fichero `imagen.ppm`. Ahora sí, puedes abrir este archivo con el programa _Gimp_ y visualizar la imágen resultante."
   ]
  },
  {
   "cell_type": "code",
   "execution_count": 8,
   "id": "a43a9af8-3106-4a52-82ce-2c455d7b7915",
   "metadata": {
    "tags": []
   },
   "outputs": [
    {
     "name": "stdout",
     "output_type": "stream",
     "text": [
      "P3\n",
      "3 2\n",
      "255\n",
      "255   0 0     0 255   0   0 0 255\n",
      "255 255 0   255 255 255   0 0   0\n"
     ]
    }
   ],
   "source": [
    "print('P3')\n",
    "print('3 2')\n",
    "print('255')\n",
    "print('255   0 0     0 255   0   0 0 255')\n",
    "print('255 255 0   255 255 255   0 0   0')"
   ]
  },
  {
   "cell_type": "markdown",
   "id": "08961d73-f4b7-42b2-a5a7-21bb91e57f89",
   "metadata": {},
   "source": [
    "### Reto 2\n",
    "\n",
    ">Crea un programa en python para generar una imágen PPM de 8x8 pixeles como esta:\n",
    ">\n",
    "><img src=\"reto2.png\">\n",
    ">\n",
    "> La imágen se ha reescalado para que se pueda ver bien en el enunciado, pero en el reto deberás hacerla de 8x8 píxeles.\n",
    ">\n",
    ">Como reto extra intenta utilizar bucles y el operador de repetición de strings para aquellas >líneas que repitan el mismo color en horizontal más de 3 píxeles."
   ]
  },
  {
   "cell_type": "code",
   "execution_count": 3,
   "id": "f1ab1ff4-915e-4f0a-85e2-1c18b762e1c1",
   "metadata": {
    "collapsed": true,
    "jupyter": {
     "outputs_hidden": true,
     "source_hidden": true
    },
    "tags": []
   },
   "outputs": [
    {
     "name": "stdout",
     "output_type": "stream",
     "text": [
      "P3\n",
      "8 8\n",
      "255\n",
      "0 255 0  0 255 0  0 255 0  0 255 0  0 255 0  0 255 0  0 255 0  0 255 0  \n",
      "255 255 0  255 0 0  255 0 0  255 0 0  255 0 0  255 0 0  255 0 0  255 255 0\n",
      "255 255 0  255 0 0  255 0 0  255 0 0  255 0 0  255 0 0  255 0 0  255 255 0\n",
      "255 255 0  70 0 0  70 0 0  255 0 0  255 0 0  70 0 0  70 0 0  255 255 0\n",
      "255 255 0  255 255 0  255 255 0  255 0 0  255 0 0  255 255 0  255 255 0  255 255 0  \n",
      "255 255 0  255 255 0  255 255 0  255 0 0  255 0 0  255 255 0  255 255 0  255 255 0  \n",
      "0 255 0  0 255 0  0 255 0  255 0 0  255 0 0  0 255 0  0 255 0  0 255 0  \n",
      "0 255 0  0 255 0  0 255 0  70 0 0  70 0 0  0 255 0  0 255 0  0 255 0  \n"
     ]
    }
   ],
   "source": [
    "print('P3')\n",
    "print('8 8')\n",
    "print('255')\n",
    "# fila 1\n",
    "for x in range(8):\n",
    "    print('0 255 0', end='  ')\n",
    "print()\n",
    "\n",
    "# fila 2 y 3\n",
    "for i in range(2):\n",
    "    print('255 255 0  ' + '255 0 0  '*6 + '255 255 0')\n",
    "\n",
    "# fila 4\n",
    "print('255 255 0  ' + '70 0 0  '*2 + '255 0 0  '*2 + '70 0 0  '*2 + '255 255 0')\n",
    "\n",
    "# fila 5 y 6\n",
    "for i in range(2):\n",
    "    print('255 255 0  '*3 + '255 0 0  '*2 + '255 255 0  '*3)\n",
    "\n",
    "# fila 7\n",
    "print('0 255 0  '*3 + '255 0 0  '*2 + '0 255 0  '*3)\n",
    "\n",
    "# fila 8\n",
    "print('0 255 0  '*3 + '70 0 0  '*2 + '0 255 0  '*3)"
   ]
  },
  {
   "cell_type": "markdown",
   "id": "d237d3b9-787f-4dd4-86f3-1b00757bec31",
   "metadata": {
    "tags": []
   },
   "source": [
    "### Reto 3\n",
    "\n",
    ">En los años 80 los _sprites_ eran muy simples y era común guardarlos en el propio código como una simple _cadena_ (o _string_). De esta forma era muy fácil para el programador identificar cada _sprite_.\n",
    ">\n",
    ">En este reto deberás realizar un programa que, a partir de la definición de un sprite en formato _string_, cree el archivo PPM correspondiente.\n",
    ">\n",
    ">```Python\n",
    "># Definición de sprite usando un String\n",
    ">marciano = \"\"\"\n",
    ">.X....X.\n",
    ">..XXXX..\n",
    ">.X.XX.X.\n",
    ">.XXXXXX.\n",
    ">.X....X.\n",
    ">.XXXXXX.\n",
    ">..X..X..\n",
    ">.X....X.\n",
    ">\"\"\"\n",
    ">```\n",
    ">\n",
    ">El [uso de las tres comillas dobles](https://www.w3schools.com/python/gloss_python_multi_line_strings.asp) es para poder definir un _String_ que se extiende múltiples líneas.\n",
    ">\n",
    ">El formato del _sprite_ será el siguiente:\n",
    ">\n",
    ">- Un __punto__ '.' indica que el pixel es de __color fondo__\n",
    ">- Una __x mayúscula__ 'X' indica que el pixel es de __color de primer plano__\n",
    ">\n",
    ">El archivo PPM generado debe ser como este (aquí se muestra ampliado pero tu imagen será de 8x8)\n",
    ">\n",
    ">![alt text](./reto3.png \"Marciano\")\n",
    ">"
   ]
  },
  {
   "cell_type": "code",
   "execution_count": 13,
   "id": "afafc8a3-188d-4048-9a02-9e9d33a34bd2",
   "metadata": {
    "jupyter": {
     "source_hidden": true
    },
    "tags": []
   },
   "outputs": [
    {
     "name": "stdout",
     "output_type": "stream",
     "text": [
      "P3\n",
      "8 8\n",
      "255\n",
      "0 0 0  200 200 200  0 0 0  0 0 0  0 0 0  0 0 0  200 200 200  0 0 0  \n",
      "0 0 0  0 0 0  200 200 200  200 200 200  200 200 200  200 200 200  0 0 0  0 0 0  \n",
      "0 0 0  200 200 200  0 0 0  200 200 200  200 200 200  0 0 0  200 200 200  0 0 0  \n",
      "0 0 0  200 200 200  200 200 200  200 200 200  200 200 200  200 200 200  200 200 200  0 0 0  \n",
      "0 0 0  200 200 200  0 0 0  0 0 0  0 0 0  0 0 0  200 200 200  0 0 0  \n",
      "0 0 0  200 200 200  200 200 200  200 200 200  200 200 200  200 200 200  200 200 200  0 0 0  \n",
      "0 0 0  0 0 0  200 200 200  0 0 0  0 0 0  200 200 200  0 0 0  0 0 0  \n",
      "0 0 0  200 200 200  0 0 0  0 0 0  0 0 0  0 0 0  200 200 200  0 0 0  \n"
     ]
    }
   ],
   "source": [
    "marciano = \"\"\"\n",
    ".X....X.\n",
    "..XXXX..\n",
    ".X.XX.X.\n",
    ".XXXXXX.\n",
    ".X....X.\n",
    ".XXXXXX.\n",
    "..X..X..\n",
    ".X....X.\n",
    "\"\"\"\n",
    "\n",
    "print('P3')\n",
    "print('8 8')\n",
    "print('255')\n",
    "\n",
    "l = marciano.split()\n",
    "for row in l:\n",
    "    row_data = ['0 0 0  ' if c=='.' else '200 200 200  ' for c in row]\n",
    "    print(''.join(row_data))"
   ]
  },
  {
   "cell_type": "markdown",
   "id": "044aef10-c266-4333-acf9-ef972a04f7c3",
   "metadata": {
    "tags": []
   },
   "source": [
    "### Reto 4\n",
    "\n",
    "![Mario Game Boy](./mario.png)\n",
    "![Game Boy Palette](https://i0.wp.com/ooloopa.studio/wp-content/uploads/2017/02/GameBoy-Screen-Color-Palette-by-ooloopa.STUDIO.jpg)"
   ]
  },
  {
   "cell_type": "code",
   "execution_count": 17,
   "id": "940800b9-9508-4005-8725-1d5435810c27",
   "metadata": {
    "collapsed": true,
    "jupyter": {
     "outputs_hidden": true,
     "source_hidden": true
    },
    "tags": []
   },
   "outputs": [
    {
     "name": "stdout",
     "output_type": "stream",
     "text": [
      "P3\n",
      "10 12\n",
      "255\n",
      "255 252 173  255 252 173  255 252 173  15 56 15  15 56 15  15 56 15  255 252 173  255 252 173  255 252 173  255 252 173  \n",
      "255 252 173  255 252 173  15 56 15  15 56 15  15 56 15  15 56 15  15 56 15  15 56 15  15 56 15  255 252 173  \n",
      "255 252 173  15 56 15  15 56 15  15 56 15  139 172 15  139 172 15  15 56 15  139 172 15  255 252 173  255 252 173  \n",
      "15 56 15  15 56 15  139 172 15  15 56 15  15 56 15  139 172 15  139 172 15  139 172 15  139 172 15  255 252 173  \n",
      "15 56 15  15 56 15  139 172 15  139 172 15  139 172 15  139 172 15  15 56 15  15 56 15  139 172 15  255 252 173  \n",
      "255 252 173  255 252 173  139 172 15  139 172 15  139 172 15  139 172 15  139 172 15  139 172 15  255 252 173  255 252 173  \n",
      "255 252 173  15 56 15  15 56 15  48 98 48  15 56 15  15 56 15  48 98 48  255 252 173  255 252 173  255 252 173  \n",
      "15 56 15  15 56 15  15 56 15  48 98 48  15 56 15  15 56 15  48 98 48  15 56 15  15 56 15  255 252 173  \n",
      "139 172 15  139 172 15  15 56 15  255 252 173  48 98 48  48 98 48  255 252 173  15 56 15  15 56 15  139 172 15  \n",
      "139 172 15  139 172 15  48 98 48  48 98 48  48 98 48  48 98 48  48 98 48  48 98 48  139 172 15  139 172 15  \n",
      "255 252 173  255 252 173  15 56 15  15 56 15  255 252 173  255 252 173  15 56 15  15 56 15  255 252 173  255 252 173  \n",
      "255 252 173  15 56 15  15 56 15  15 56 15  255 252 173  255 252 173  15 56 15  15 56 15  15 56 15  255 252 173  \n"
     ]
    }
   ],
   "source": [
    "# Gameboy Palette (fondo, oscuro..claro)\n",
    "gb_palette = [(255, 252, 173), (15, 56, 15), (48, 98, 48), (139, 172, 15)]\n",
    "\n",
    "def ppmBegin(size):\n",
    "    w, h = size\n",
    "    cabecera = f\"\"\"P3\n",
    "{w} {h}\n",
    "255\"\"\"\n",
    "    print(cabecera, end='')\n",
    "\n",
    "    \n",
    "spr_mario = \"\"\"\n",
    "0001110000\n",
    "0011111110\n",
    "0111331300\n",
    "1131133330\n",
    "1133331130\n",
    "0033333300\n",
    "0112112000\n",
    "1112112110\n",
    "3310220113\n",
    "3322222233\n",
    "0011001100\n",
    "0111001110\n",
    "\"\"\"\n",
    "ppmBegin((10, 12))\n",
    "\n",
    "for pixel in spr_mario:\n",
    "    if pixel in \"01234\":\n",
    "        palette_index = int(pixel)\n",
    "        r, g, b = gb_palette[int(pixel)]\n",
    "        print(f'{r} {g} {b}  ', end='')\n",
    "    if pixel == '\\n':\n",
    "        print()\n",
    "        "
   ]
  },
  {
   "cell_type": "code",
   "execution_count": null,
   "id": "27c649e8-22ff-48db-bfbd-90d6bc916319",
   "metadata": {
    "tags": []
   },
   "outputs": [],
   "source": []
  }
 ],
 "metadata": {
  "kernelspec": {
   "display_name": "Python 3 (ipykernel)",
   "language": "python",
   "name": "python3"
  },
  "language_info": {
   "codemirror_mode": {
    "name": "ipython",
    "version": 3
   },
   "file_extension": ".py",
   "mimetype": "text/x-python",
   "name": "python",
   "nbconvert_exporter": "python",
   "pygments_lexer": "ipython3",
   "version": "3.10.2"
  }
 },
 "nbformat": 4,
 "nbformat_minor": 5
}
