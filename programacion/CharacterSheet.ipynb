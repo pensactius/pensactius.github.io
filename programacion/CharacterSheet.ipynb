{
 "cells": [
  {
   "cell_type": "code",
   "execution_count": 14,
   "id": "e68b2563-4640-4133-910f-eb1e26702754",
   "metadata": {},
   "outputs": [],
   "source": [
    "from enum import Enum\n",
    "\n",
    "class GameClass(Enum):\n",
    "    Fighter = 1\n",
    "    Ranger = 2\n",
    "    Paladin = 3\n",
    "    Barbarian = 4\n",
    "    Cleric = 5\n",
    "    Druid = 6\n",
    "    Thief = 7\n",
    "    Mage = 8\n",
    "    Sorcerer = 9\n",
    "\n",
    "class Race(Enum):\n",
    "    Human = 1\n",
    "    Elf = 2\n",
    "    HalfElf = 3\n",
    "    Dwarf = 4\n",
    "    Gnome = 5\n",
    "    Halfling = 6\n",
    "    HalfOrc = 7\n",
    "\n",
    "class Sex(Enum):\n",
    "    Male = 1\n",
    "    Female = 2\n"
   ]
  },
  {
   "cell_type": "code",
   "execution_count": 6,
   "id": "bab14390-eccb-42df-81bb-64a7cf129606",
   "metadata": {},
   "outputs": [
    {
     "name": "stdout",
     "output_type": "stream",
     "text": [
      "\n",
      "Thorbag\t\t(Lvl 1)\n",
      "=-=-=-=-=-=-=-=-=-=-=-=-=-=-=-=-==-=-=-=-=-=-=-=\n",
      "Sex: Male    Race: Human    Class: Fighter\n",
      "\n",
      "\n",
      "Senua\t\t(Lvl 2)\n",
      "=-=-=-=-=-=-=-=-=-=-=-=-=-=-=-=-==-=-=-=-=-=-=-=\n",
      "Sex: Male    Race: Human    Class: Fighter\n",
      "\n"
     ]
    }
   ],
   "source": [
    "class CharacterSheet():\n",
    "    def __init__(self, name=\"NoName\", level=1):\n",
    "        self.name = name\n",
    "        self.sex = Sex.Male\n",
    "        self.level = level\n",
    "        self.str = 10\n",
    "        self.dex = 10\n",
    "        self.con = 10\n",
    "        self.wis = 10\n",
    "        self.int = 10\n",
    "        self.cha = 10\n",
    "        self.game_class = GameClass.Fighter\n",
    "        self.race = Race.Human\n",
    "\n",
    "    def __str__(self):\n",
    "        return (f'''\n",
    "{self.name}\\t\\t(Lvl {self.level})\n",
    "=-=-=-=-=-=-=-=-=-=-=-=-=-=-=-=-==-=-=-=-=-=-=-=\n",
    "Sex: {self.sex.name}    Race: {self.race.name}    Class: {self.game_class.name}\n",
    "'''\n",
    "        )\n",
    "        \n",
    "thorbag = CharacterSheet(\"Thorbag\")\n",
    "senua = CharacterSheet(\"Senua\", 2)\n",
    "print(thorbag)\n",
    "print(senua)\n"
   ]
  },
  {
   "cell_type": "code",
   "execution_count": 38,
   "id": "f39a92c7-ac99-4c6c-92bb-e2c8d2de8efa",
   "metadata": {
    "tags": []
   },
   "outputs": [],
   "source": [
    "def GenerateCharacter(p):\n",
    "    answer = \"\"\n",
    "    while answer in ('Nn'):\n",
    "        player_name = input(\"Who shall enter the Dragon's Lair? \")\n",
    "        p.name = player_name\n",
    "\n",
    "        p.sex = MenuSex()\n",
    "    \n",
    "        print(p)\n",
    "        answer = input(\"\\tAre you sure (Y/n)?\")"
   ]
  },
  {
   "cell_type": "code",
   "execution_count": 39,
   "id": "e33a5bcc-4c3f-4ae8-9b07-d03d2a2ab775",
   "metadata": {
    "tags": []
   },
   "outputs": [],
   "source": [
    "def MenuSex():\n",
    "    \"\"\"\n",
    "    Muestra menu para seleccionar el sexo.\n",
    "    \"\"\"\n",
    "    print(\"Gender?\")\n",
    "    print(\"\\t[1] Male\")\n",
    "    print(\"\\t[2] Female\")\n",
    "    selection = int(input(\"> \"))\n",
    "    \n",
    "    return Sex(selection)"
   ]
  },
  {
   "cell_type": "code",
   "execution_count": 8,
   "id": "a1431e2c-d53e-405e-86c7-dfcb29e2dcb7",
   "metadata": {
    "tags": []
   },
   "outputs": [
    {
     "name": "stdout",
     "output_type": "stream",
     "text": [
      "\n",
      "NoName\t\t(Lvl 1)\n",
      "=-=-=-=-=-=-=-=-=-=-=-=-=-=-=-=-==-=-=-=-=-=-=-=\n",
      "Sex: Male    Race: Human    Class: Fighter\n",
      "\n",
      "\n",
      "NoName\t\t(Lvl 1)\n",
      "=-=-=-=-=-=-=-=-=-=-=-=-=-=-=-=-==-=-=-=-=-=-=-=\n",
      "Sex: Male    Race: Human    Class: Fighter\n",
      "\n"
     ]
    }
   ],
   "source": [
    "player1 = CharacterSheet()\n",
    "print(player1)\n",
    "\n",
    "player2 = CharacterSheet()\n",
    "print(player2)"
   ]
  },
  {
   "cell_type": "code",
   "execution_count": 9,
   "id": "cceed9ac-0686-47e6-850f-659a9945b8a8",
   "metadata": {
    "tags": []
   },
   "outputs": [
    {
     "name": "stdin",
     "output_type": "stream",
     "text": [
      "Who shall enter the Dragon's Lair?  Throbag\n"
     ]
    },
    {
     "name": "stdout",
     "output_type": "stream",
     "text": [
      "Gender?\n",
      "\t[1] Male\n",
      "\t[2] Female\n"
     ]
    },
    {
     "name": "stdin",
     "output_type": "stream",
     "text": [
      ">  1\n"
     ]
    },
    {
     "name": "stdout",
     "output_type": "stream",
     "text": [
      "\n",
      "Throbag\t\t(Lvl 1)\n",
      "=-=-=-=-=-=-=-=-=-=-=-=-=-=-=-=-==-=-=-=-=-=-=-=\n",
      "Sex: Male    Race: Human    Class: Fighter\n",
      "\n"
     ]
    },
    {
     "name": "stdin",
     "output_type": "stream",
     "text": [
      "\tAre you sure (Y/n)? n\n",
      "Who shall enter the Dragon's Lair?  Thorbag\n"
     ]
    },
    {
     "name": "stdout",
     "output_type": "stream",
     "text": [
      "Gender?\n",
      "\t[1] Male\n",
      "\t[2] Female\n"
     ]
    },
    {
     "name": "stdin",
     "output_type": "stream",
     "text": [
      ">  1\n"
     ]
    },
    {
     "name": "stdout",
     "output_type": "stream",
     "text": [
      "\n",
      "Thorbag\t\t(Lvl 1)\n",
      "=-=-=-=-=-=-=-=-=-=-=-=-=-=-=-=-==-=-=-=-=-=-=-=\n",
      "Sex: Male    Race: Human    Class: Fighter\n",
      "\n"
     ]
    },
    {
     "name": "stdin",
     "output_type": "stream",
     "text": [
      "\tAre you sure (Y/n)? y\n",
      "Who shall enter the Dragon's Lair?  Senoa\n"
     ]
    },
    {
     "name": "stdout",
     "output_type": "stream",
     "text": [
      "Gender?\n",
      "\t[1] Male\n",
      "\t[2] Female\n"
     ]
    },
    {
     "name": "stdin",
     "output_type": "stream",
     "text": [
      ">  2\n"
     ]
    },
    {
     "name": "stdout",
     "output_type": "stream",
     "text": [
      "\n",
      "Senoa\t\t(Lvl 1)\n",
      "=-=-=-=-=-=-=-=-=-=-=-=-=-=-=-=-==-=-=-=-=-=-=-=\n",
      "Sex: Female    Race: Human    Class: Fighter\n",
      "\n"
     ]
    },
    {
     "name": "stdin",
     "output_type": "stream",
     "text": [
      "\tAre you sure (Y/n)? y\n"
     ]
    },
    {
     "name": "stdout",
     "output_type": "stream",
     "text": [
      "The heroes today are...\n",
      "\n",
      "Thorbag\t\t(Lvl 1)\n",
      "=-=-=-=-=-=-=-=-=-=-=-=-=-=-=-=-==-=-=-=-=-=-=-=\n",
      "Sex: Male    Race: Human    Class: Fighter\n",
      "\n",
      "\n",
      "Senoa\t\t(Lvl 1)\n",
      "=-=-=-=-=-=-=-=-=-=-=-=-=-=-=-=-==-=-=-=-=-=-=-=\n",
      "Sex: Female    Race: Human    Class: Fighter\n",
      "\n"
     ]
    }
   ],
   "source": [
    "GenerateCharacter(player1)\n",
    "GenerateCharacter(player2)\n",
    "\n",
    "print('The heroes today are...')\n",
    "print(player1)\n",
    "print(player2)"
   ]
  },
  {
   "cell_type": "code",
   "execution_count": 40,
   "id": "49faaf94-8ec6-4a9c-90ba-8344cd4d9d46",
   "metadata": {},
   "outputs": [],
   "source": [
    "def MenuRace():\n",
    "    print('Race (1-7)?')\n",
    "    for race in Race:\n",
    "        print(f'\\t[{race.value}] {race.name} ')\n",
    "    \n",
    "    opt = int(input('>'))\n",
    "    while not (opt in range(1,7+1)):\n",
    "        print('Invalid option, please choose (1-7)')\n",
    "        opt = int(input('>'))\n",
    "    \n",
    "    return Race(opt)"
   ]
  },
  {
   "cell_type": "code",
   "execution_count": 41,
   "id": "6c1c27b9-73c3-4e1b-860f-a7ef531b114d",
   "metadata": {
    "tags": []
   },
   "outputs": [],
   "source": [
    "def GenerateCharacter(p):\n",
    "    answer = \"\"\n",
    "    while answer in ('Nn'):\n",
    "        player_name = input(\"Who shall enter the Dragon's Lair? \")\n",
    "        p.name = player_name\n",
    "\n",
    "        p.sex = MenuSex()\n",
    "        p.race = MenuRace()\n",
    "    \n",
    "        print(p)\n",
    "        answer = input(\"\\tAre you sure (Y/n)?\")"
   ]
  },
  {
   "cell_type": "code",
   "execution_count": 42,
   "id": "cd38ae4b-5b3e-4fa6-94f8-3092e67bc1a9",
   "metadata": {},
   "outputs": [
    {
     "name": "stdout",
     "output_type": "stream",
     "text": [
      "=== Executing: ===\n",
      "GenerateCharacter(player1)\n",
      "GenerateCharacter(player2)\n",
      "\n",
      "print('The heroes today are...')\n",
      "print(player1)\n",
      "print(player2)\n",
      "=== Output: ===\n"
     ]
    },
    {
     "name": "stdin",
     "output_type": "stream",
     "text": [
      "Who shall enter the Dragon's Lair?  Thorbag\n"
     ]
    },
    {
     "name": "stdout",
     "output_type": "stream",
     "text": [
      "Gender?\n",
      "\t[1] Male\n",
      "\t[2] Female\n"
     ]
    },
    {
     "name": "stdin",
     "output_type": "stream",
     "text": [
      ">  1\n"
     ]
    },
    {
     "name": "stdout",
     "output_type": "stream",
     "text": [
      "Race (1-7)?\n",
      "\t[1] Human \n",
      "\t[2] Elf \n",
      "\t[3] HalfElf \n",
      "\t[4] Dwarf \n",
      "\t[5] Gnome \n",
      "\t[6] Halfling \n",
      "\t[7] HalfOrc \n"
     ]
    },
    {
     "name": "stdin",
     "output_type": "stream",
     "text": [
      "> 0\n"
     ]
    },
    {
     "name": "stdout",
     "output_type": "stream",
     "text": [
      "Invalid option, please choose (1-7)\n"
     ]
    },
    {
     "name": "stdin",
     "output_type": "stream",
     "text": [
      "> 1\n"
     ]
    },
    {
     "name": "stdout",
     "output_type": "stream",
     "text": [
      "\n",
      "Thorbag\t\t(Lvl 1)\n",
      "=-=-=-=-=-=-=-=-=-=-=-=-=-=-=-=-==-=-=-=-=-=-=-=\n",
      "Sex: Male    Race: Human    Class: Fighter\n",
      "\n"
     ]
    },
    {
     "name": "stdin",
     "output_type": "stream",
     "text": [
      "\tAre you sure (Y/n)? y\n",
      "Who shall enter the Dragon's Lair?  Senoa\n"
     ]
    },
    {
     "name": "stdout",
     "output_type": "stream",
     "text": [
      "Gender?\n",
      "\t[1] Male\n",
      "\t[2] Female\n"
     ]
    },
    {
     "name": "stdin",
     "output_type": "stream",
     "text": [
      ">  2\n"
     ]
    },
    {
     "name": "stdout",
     "output_type": "stream",
     "text": [
      "Race (1-7)?\n",
      "\t[1] Human \n",
      "\t[2] Elf \n",
      "\t[3] HalfElf \n",
      "\t[4] Dwarf \n",
      "\t[5] Gnome \n",
      "\t[6] Halfling \n",
      "\t[7] HalfOrc \n"
     ]
    },
    {
     "name": "stdin",
     "output_type": "stream",
     "text": [
      "> 3\n"
     ]
    },
    {
     "name": "stdout",
     "output_type": "stream",
     "text": [
      "\n",
      "Senoa\t\t(Lvl 1)\n",
      "=-=-=-=-=-=-=-=-=-=-=-=-=-=-=-=-==-=-=-=-=-=-=-=\n",
      "Sex: Female    Race: HalfElf    Class: Fighter\n",
      "\n"
     ]
    },
    {
     "name": "stdin",
     "output_type": "stream",
     "text": [
      "\tAre you sure (Y/n)? y\n"
     ]
    },
    {
     "name": "stdout",
     "output_type": "stream",
     "text": [
      "The heroes today are...\n",
      "\n",
      "Thorbag\t\t(Lvl 1)\n",
      "=-=-=-=-=-=-=-=-=-=-=-=-=-=-=-=-==-=-=-=-=-=-=-=\n",
      "Sex: Male    Race: Human    Class: Fighter\n",
      "\n",
      "\n",
      "Senoa\t\t(Lvl 1)\n",
      "=-=-=-=-=-=-=-=-=-=-=-=-=-=-=-=-==-=-=-=-=-=-=-=\n",
      "Sex: Female    Race: HalfElf    Class: Fighter\n",
      "\n"
     ]
    }
   ],
   "source": [
    "%rerun 9"
   ]
  },
  {
   "cell_type": "code",
   "execution_count": 120,
   "id": "23e7b26b-d540-4343-b890-2e98e1899072",
   "metadata": {
    "jupyter": {
     "source_hidden": true
    },
    "tags": []
   },
   "outputs": [],
   "source": [
    "def CreateMenu(title, menu_strings):\n",
    "    '''Create a vertical menu from the given options.\n",
    "    \n",
    "    Parameters:\n",
    "        menu_strings (list of strings): A list of menu titles        \n",
    "    '''\n",
    "    \n",
    "    menu_len = len(menu_strings)\n",
    "    print(f'{title} (1-{menu_len})')\n",
    "    \n",
    "    for id, menu in enumerate(menu_strings):        \n",
    "        print(f'\\t[{id+1}] {menu}')"
   ]
  },
  {
   "cell_type": "code",
   "execution_count": 122,
   "id": "4359f35a-daf2-4efc-a976-7107395e1f51",
   "metadata": {},
   "outputs": [
    {
     "name": "stdout",
     "output_type": "stream",
     "text": [
      "Race? (1-7)\n",
      "\t[1] Human\n",
      "\t[2] Elf\n",
      "\t[3] HalfElf\n",
      "\t[4] Dwarf\n",
      "\t[5] Gnome\n",
      "\t[6] Halfling\n",
      "\t[7] HalfOrc\n",
      "\n",
      "Gender? (1-2)\n",
      "\t[1] Male\n",
      "\t[2] Female\n",
      "\n",
      "Class? (1-9)\n",
      "\t[1] Fighter\n",
      "\t[2] Ranger\n",
      "\t[3] Paladin\n",
      "\t[4] Barbarian\n",
      "\t[5] Cleric\n",
      "\t[6] Druid\n",
      "\t[7] Thief\n",
      "\t[8] Mage\n",
      "\t[9] Sorcerer\n"
     ]
    }
   ],
   "source": [
    "menu_races = [race.name for race in Race]\n",
    "menu_sex = [sex.name for sex in Sex]\n",
    "menu_classes = [game_class.name for game_class in GameClass]\n",
    "CreateMenu(\"Race?\", menu_races)\n",
    "print()\n",
    "CreateMenu(\"Gender?\", menu_sex)\n",
    "print()\n",
    "CreateMenu(\"Class?\",menu_classes)"
   ]
  },
  {
   "cell_type": "code",
   "execution_count": 116,
   "id": "909f97cc-7e55-48ff-b898-ac4bf4ec743d",
   "metadata": {},
   "outputs": [
    {
     "name": "stdout",
     "output_type": "stream",
     "text": [
      "0 Human\n",
      "1 Elf\n",
      "2 HalfElf\n",
      "3 Dwarf\n",
      "4 Gnome\n",
      "5 Halfling\n",
      "6 HalfOrc\n"
     ]
    }
   ],
   "source": [
    "for id,menu in enumerate(menu_races):\n",
    "    print(id, menu)"
   ]
  },
  {
   "cell_type": "code",
   "execution_count": null,
   "id": "d0ac88d1-17d9-4ee0-a241-caacd53cbe88",
   "metadata": {},
   "outputs": [],
   "source": []
  }
 ],
 "metadata": {
  "kernelspec": {
   "display_name": "Python 3 (ipykernel)",
   "language": "python",
   "name": "python3"
  },
  "language_info": {
   "codemirror_mode": {
    "name": "ipython",
    "version": 3
   },
   "file_extension": ".py",
   "mimetype": "text/x-python",
   "name": "python",
   "nbconvert_exporter": "python",
   "pygments_lexer": "ipython3",
   "version": "3.10.2"
  },
  "toc-autonumbering": false,
  "toc-showtags": false
 },
 "nbformat": 4,
 "nbformat_minor": 5
}
