{
 "cells": [
  {
   "cell_type": "code",
   "execution_count": 3,
   "id": "e68b2563-4640-4133-910f-eb1e26702754",
   "metadata": {
    "tags": []
   },
   "outputs": [],
   "source": [
    "from enum import Enum\n",
    "\n",
    "class GameClass(Enum):\n",
    "    Fighter = 1\n",
    "    Ranger = 2\n",
    "    Paladin = 3\n",
    "    Barbarian = 4\n",
    "    Cleric = 5\n",
    "    Druid = 6\n",
    "    Thief = 7\n",
    "    Mage = 8\n",
    "    Sorcerer = 9\n",
    "\n",
    "class Race(Enum):\n",
    "    Human = 1\n",
    "    Elf = 2\n",
    "    HalfElf = 3\n",
    "    Dwarf = 4\n",
    "    Gnome = 5\n",
    "    Halfling = 6\n",
    "    HalfOrc = 7\n",
    "\n",
    "class Sex(Enum):\n",
    "    Male = 1\n",
    "    Female = 2\n"
   ]
  },
  {
   "cell_type": "code",
   "execution_count": 1,
   "id": "63f6db02-8fc1-44ef-b05a-057aa1774f83",
   "metadata": {
    "tags": []
   },
   "outputs": [],
   "source": [
    "class CharacterSheet():\n",
    "    def __init__(self, name=\"NoName\", level=1):\n",
    "        self.name = name\n",
    "        self.sex = Sex.Male\n",
    "        self.level = level\n",
    "        self.str = 10\n",
    "        self.dex = 10\n",
    "        self.con = 10\n",
    "        self.wis = 10\n",
    "        self.int = 10\n",
    "        self.chr = 10\n",
    "        self.game_class = GameClass.Fighter\n",
    "        self.race = Race.Human\n",
    "\n",
    "    def __str__(self):\n",
    "        return (f'''\n",
    "{self.name}\\t\\t(Lvl {self.level})\n",
    "=-=-=-=-=-=-=-=-=-=-=-=-=-=-=-=-==-=-=-=-=-=-=-=\n",
    "Sex: {self.sex.name}    Race: {self.race.name}    Class: {self.game_class.name}\n",
    "\n",
    "      STR  [{self.str}]      WIS  [{self.wis}]\n",
    "      DEX  [{self.dex}]      INT  [{self.int}]\n",
    "      CON  [{self.con}]      CHR  [{self.chr}]\n",
    "'''\n",
    "        )\n",
    " "
   ]
  },
  {
   "cell_type": "markdown",
   "id": "266c7fb1-c596-4f38-91d9-23585c4e008f",
   "metadata": {
    "tags": []
   },
   "source": [
    "### Constructor de clase\n",
    "La utilidad del _Constructor_ en la _Programación Orientada a Objetos_ es dar un valor conocido y válido a un objeto en el momento de su construcción. \n",
    "\n",
    ">\n",
    "> Diseña el _Constructor_ de la clase `CharacterSheet` para que asigne unos valores _por defecto_ al personaje cuando se usa sin argumentos. \n",
    ">\n",
    "> Fíjate en el siguiente ejemplo que los valores mostrados para cada personaje son siempre los mismos:\n",
    ">"
   ]
  },
  {
   "cell_type": "code",
   "execution_count": 4,
   "id": "d79faa0c-b48c-4960-9f35-722606e62e38",
   "metadata": {
    "tags": []
   },
   "outputs": [
    {
     "name": "stdout",
     "output_type": "stream",
     "text": [
      "\n",
      "NoName\t\t(Lvl 1)\n",
      "=-=-=-=-=-=-=-=-=-=-=-=-=-=-=-=-==-=-=-=-=-=-=-=\n",
      "Sex: Male    Race: Human    Class: Fighter\n",
      "\n",
      "      STR  [10]      WIS  [10]\n",
      "      DEX  [10]      INT  [10]\n",
      "      CON  [10]      CHR  [10]\n",
      "\n",
      "\n",
      "NoName\t\t(Lvl 1)\n",
      "=-=-=-=-=-=-=-=-=-=-=-=-=-=-=-=-==-=-=-=-=-=-=-=\n",
      "Sex: Male    Race: Human    Class: Fighter\n",
      "\n",
      "      STR  [10]      WIS  [10]\n",
      "      DEX  [10]      INT  [10]\n",
      "      CON  [10]      CHR  [10]\n",
      "\n"
     ]
    }
   ],
   "source": [
    "player1 = CharacterSheet()\n",
    "print(player1)\n",
    "\n",
    "player2 = CharacterSheet()\n",
    "print(player2)"
   ]
  },
  {
   "cell_type": "markdown",
   "id": "315593e2-b7b2-4bb8-9ecc-1461c56543c1",
   "metadata": {
    "tags": []
   },
   "source": [
    "En cambio, en los siguientes ejemplos se _construye_ cada objeto pásandole argumentos adicionales al constructor.\n",
    "\n",
    "El objeto `thorbag` se crea pasándole un argumento (el nombre) al _Constructor_.\n",
    "\n",
    "El objeto `senoa` se crea pasñandole dos argumentos (el nombre y el nivel inicial) al _Constructor_.\n",
    "\n",
    "Fíjate que el resto de valores del personaje tienen los valores por defecto.\n",
    "\n",
    "> Modifica el constructor de clase para que acepte hasta dos parámetros opcionales.\n",
    ">\n",
    "> El primer parámetro deberá ser el nombre del personaje.\n",
    ">\n",
    "> El segundo parámetro es el nivel inicial del personaje.\n",
    ">\n",
    "> Si no se le pasa ningún parámetro al constructor deberá crear, como antes, un personaje con valores por defecto."
   ]
  },
  {
   "cell_type": "code",
   "execution_count": 6,
   "id": "198a4820-7cbe-4e9d-9a9c-b275c02e3dbe",
   "metadata": {
    "tags": []
   },
   "outputs": [
    {
     "name": "stdout",
     "output_type": "stream",
     "text": [
      "\n",
      "Thorbag\t\t(Lvl 1)\n",
      "=-=-=-=-=-=-=-=-=-=-=-=-=-=-=-=-==-=-=-=-=-=-=-=\n",
      "Sex: Male    Race: Human    Class: Fighter\n",
      "\n",
      "      STR  [10]      WIS  [10]\n",
      "      DEX  [10]      INT  [10]\n",
      "      CON  [10]      CHR  [10]\n",
      "\n",
      "\n",
      "Senoa\t\t(Lvl 2)\n",
      "=-=-=-=-=-=-=-=-=-=-=-=-=-=-=-=-==-=-=-=-=-=-=-=\n",
      "Sex: Male    Race: Human    Class: Fighter\n",
      "\n",
      "      STR  [10]      WIS  [10]\n",
      "      DEX  [10]      INT  [10]\n",
      "      CON  [10]      CHR  [10]\n",
      "\n"
     ]
    }
   ],
   "source": [
    "thorbag = CharacterSheet(\"Thorbag\")\n",
    "senua = CharacterSheet(\"Senoa\", 2)\n",
    "print(thorbag)\n",
    "print(senua)"
   ]
  },
  {
   "cell_type": "markdown",
   "id": "d63cf505-19dd-4cb6-8556-63c14aff62a8",
   "metadata": {
    "tags": []
   },
   "source": [
    "## Creación Interactiva del Personaje\n",
    "\n",
    "El objetivo de los siguientes retos es implementar la función `GenerateCharacter()` que se encargará de la creación de un personaje a partir de las elecciones introducidas por el usuario.\n",
    "\n",
    "La forma de implementarlo será mediante una sucesión de menús interactivos en los que el usuario seleccionará una serie de opciones hasta la creación completa del personaje según las reglas de AD&D.\n",
    "\n",
    "Implementaremos esta función de manera gradual. En esta primera iteración únicamente preguntaremos por el nombre y el sexo del personaje.\n",
    "\n",
    "> Implementa la función `GenerateCharacter()` para que reciba como parámetro una variable de tipo `CharacterSheet`\n",
    ">\n",
    "> En primer lugar preguntará por el nombre del personaje.\n",
    ">\n",
    "> A continuación ofrecerá dos opciones para elegir el sexo ([1] Male / [2] Female). \n",
    ">\n",
    "> El usuario seleccionará el sexo introduciendo por teclado el número correspondiente a la opción, es decir tecleará 1 para Male o 2 para Female.\n",
    ">\n",
    "> A partir de los datos introducidos deberá actualizar los datos del parámetro de entrada para reflejar los cambios.\n",
    "\n",
    "Puedes ayudarte de la siguiente plantilla (que deberás completar):"
   ]
  },
  {
   "cell_type": "code",
   "execution_count": null,
   "id": "568885ce-a6d1-4018-aaca-b58a6ea0f79b",
   "metadata": {
    "tags": []
   },
   "outputs": [],
   "source": [
    "def GenerateCharacter(p):\n",
    "    \"\"\"\n",
    "    Crea los datos del personaje especificado como parámetro.\n",
    "    \n",
    "    Parámetros de Entrada\n",
    "    \n",
    "        p: Personaje a modificar.\n",
    "    \"\"\"\n",
    "    name = input(\"Who shall enter the Dragon's Lair?\")\n",
    "    p.name = name\n",
    "\n",
    "player1 = CharacterSheet()\n",
    "GenerateCharacter(player1)\n",
    "print(player1)"
   ]
  },
  {
   "cell_type": "markdown",
   "id": "cc324775-afc1-4d3b-9217-3ed4a642ba4b",
   "metadata": {
    "tags": []
   },
   "source": [
    "A continuación se muestra un ejemplo de ejecución:"
   ]
  },
  {
   "cell_type": "code",
   "execution_count": 15,
   "id": "8e2a3cf7-318d-4fa2-9da1-21264d8a71d1",
   "metadata": {
    "tags": []
   },
   "outputs": [
    {
     "name": "stdin",
     "output_type": "stream",
     "text": [
      "Who shall enter the Dragon's Lair?  Thorbag\n"
     ]
    },
    {
     "name": "stdout",
     "output_type": "stream",
     "text": [
      "Gender?\n",
      "\t[1] Male\n",
      "\t[2] Female\n"
     ]
    },
    {
     "name": "stdin",
     "output_type": "stream",
     "text": [
      ">  1\n"
     ]
    },
    {
     "name": "stdout",
     "output_type": "stream",
     "text": [
      "\n",
      "Thorbag\t\t(Lvl 1)\n",
      "=-=-=-=-=-=-=-=-=-=-=-=-=-=-=-=-==-=-=-=-=-=-=-=\n",
      "Sex: Male    Race: Human    Class: Fighter\n",
      "\n",
      "      STR  [10]      WIS  [10]\n",
      "      DEX  [10]      INT  [10]\n",
      "      CON  [10]      CHR  [10]\n",
      "\n"
     ]
    },
    {
     "name": "stdin",
     "output_type": "stream",
     "text": [
      "\tAre you sure (Y/n)? y\n",
      "Who shall enter the Dragon's Lair?  Senoa\n"
     ]
    },
    {
     "name": "stdout",
     "output_type": "stream",
     "text": [
      "Gender?\n",
      "\t[1] Male\n",
      "\t[2] Female\n"
     ]
    },
    {
     "name": "stdin",
     "output_type": "stream",
     "text": [
      ">  1\n"
     ]
    },
    {
     "name": "stdout",
     "output_type": "stream",
     "text": [
      "\n",
      "Senoa\t\t(Lvl 1)\n",
      "=-=-=-=-=-=-=-=-=-=-=-=-=-=-=-=-==-=-=-=-=-=-=-=\n",
      "Sex: Male    Race: Human    Class: Fighter\n",
      "\n",
      "      STR  [10]      WIS  [10]\n",
      "      DEX  [10]      INT  [10]\n",
      "      CON  [10]      CHR  [10]\n",
      "\n"
     ]
    },
    {
     "name": "stdin",
     "output_type": "stream",
     "text": [
      "\tAre you sure (Y/n)? n\n",
      "Who shall enter the Dragon's Lair?  Senoa\n"
     ]
    },
    {
     "name": "stdout",
     "output_type": "stream",
     "text": [
      "Gender?\n",
      "\t[1] Male\n",
      "\t[2] Female\n"
     ]
    },
    {
     "name": "stdin",
     "output_type": "stream",
     "text": [
      ">  2\n"
     ]
    },
    {
     "name": "stdout",
     "output_type": "stream",
     "text": [
      "\n",
      "Senoa\t\t(Lvl 1)\n",
      "=-=-=-=-=-=-=-=-=-=-=-=-=-=-=-=-==-=-=-=-=-=-=-=\n",
      "Sex: Female    Race: Human    Class: Fighter\n",
      "\n",
      "      STR  [10]      WIS  [10]\n",
      "      DEX  [10]      INT  [10]\n",
      "      CON  [10]      CHR  [10]\n",
      "\n"
     ]
    },
    {
     "name": "stdin",
     "output_type": "stream",
     "text": [
      "\tAre you sure (Y/n)? y\n"
     ]
    },
    {
     "name": "stdout",
     "output_type": "stream",
     "text": [
      "The heroes today are...\n",
      "\n",
      "Thorbag\t\t(Lvl 1)\n",
      "=-=-=-=-=-=-=-=-=-=-=-=-=-=-=-=-==-=-=-=-=-=-=-=\n",
      "Sex: Male    Race: Human    Class: Fighter\n",
      "\n",
      "      STR  [10]      WIS  [10]\n",
      "      DEX  [10]      INT  [10]\n",
      "      CON  [10]      CHR  [10]\n",
      "\n",
      "\n",
      "Senoa\t\t(Lvl 1)\n",
      "=-=-=-=-=-=-=-=-=-=-=-=-=-=-=-=-==-=-=-=-=-=-=-=\n",
      "Sex: Female    Race: Human    Class: Fighter\n",
      "\n",
      "      STR  [10]      WIS  [10]\n",
      "      DEX  [10]      INT  [10]\n",
      "      CON  [10]      CHR  [10]\n",
      "\n"
     ]
    }
   ],
   "source": [
    "player1=CharacterSheet()\n",
    "player2=CharacterSheet()\n",
    "\n",
    "GenerateCharacter(player1)\n",
    "GenerateCharacter(player2)\n",
    "\n",
    "print('The heroes today are...')\n",
    "print(player1)\n",
    "print(player2)"
   ]
  },
  {
   "cell_type": "code",
   "execution_count": 13,
   "id": "06a6b4b6-65dd-4663-b554-1b778d3679b4",
   "metadata": {
    "tags": []
   },
   "outputs": [],
   "source": [
    "#\n",
    "# Solución Propuesta\n",
    "#\n",
    "def MenuSex():\n",
    "    \"\"\"\n",
    "    Muestra menu para seleccionar el sexo.\n",
    "    \n",
    "    Devuelve\n",
    "    \n",
    "        Sexo seleccionado\n",
    "    \"\"\"\n",
    "    print(\"Gender?\")\n",
    "    print(\"\\t[1] Male\")\n",
    "    print(\"\\t[2] Female\")\n",
    "    selection = int(input(\"> \"))\n",
    "    \n",
    "    return Sex(selection)\n",
    "\n",
    "\n",
    "def GenerateCharacter(p):\n",
    "    \"\"\"\n",
    "    Crea los datos del personaje especificado como parámetro.\n",
    "    \n",
    "    Parámetros de Entrada\n",
    "    \n",
    "        p: Personaje a modificar.\n",
    "    \"\"\"\n",
    "    answer = \"\"\n",
    "    while answer in ('Nn'):\n",
    "        player_name = input(\"Who shall enter the Dragon's Lair? \")\n",
    "        p.name = player_name\n",
    "\n",
    "        p.sex = MenuSex()\n",
    "    \n",
    "        print(p)\n",
    "        answer = input(\"\\tAre you sure (Y/n)?\")"
   ]
  },
  {
   "cell_type": "markdown",
   "id": "4cf7b257-db5c-4ab8-947c-894325bf2303",
   "metadata": {
    "tags": []
   },
   "source": [
    " \n",
    "\n",
    "> Modifica la función `GenerateCharacter()` para ofrecer las opciones de seleccionar __raza__ y __clase__ del personaje.\n",
    "> \n",
    "> A partir de los datos introducidos deberá actualizar los datos del parámetro de entrada para reflejar los cambios.\n",
    ">"
   ]
  },
  {
   "cell_type": "markdown",
   "id": "3a653dac-9df2-43a8-a63e-d991aac97fbc",
   "metadata": {
    "tags": []
   },
   "source": [
    "A continuación se muestra un ejemplo de ejecución:"
   ]
  },
  {
   "cell_type": "code",
   "execution_count": 23,
   "id": "4a56e109-fab3-4d43-af0a-b25a1f2ae887",
   "metadata": {
    "tags": []
   },
   "outputs": [
    {
     "name": "stdin",
     "output_type": "stream",
     "text": [
      "Who shall enter the Dragon's Lair?  Thorbag\n"
     ]
    },
    {
     "name": "stdout",
     "output_type": "stream",
     "text": [
      "Gender?\n",
      "\t[1] Male\n",
      "\t[2] Female\n"
     ]
    },
    {
     "name": "stdin",
     "output_type": "stream",
     "text": [
      ">  1\n"
     ]
    },
    {
     "name": "stdout",
     "output_type": "stream",
     "text": [
      "Race (1-7)?\n",
      "\t[1] Human \n",
      "\t[2] Elf \n",
      "\t[3] HalfElf \n",
      "\t[4] Dwarf \n",
      "\t[5] Gnome \n",
      "\t[6] Halfling \n",
      "\t[7] HalfOrc \n"
     ]
    },
    {
     "name": "stdin",
     "output_type": "stream",
     "text": [
      "> 1\n"
     ]
    },
    {
     "name": "stdout",
     "output_type": "stream",
     "text": [
      "Class (1-9)?\n",
      "\t[1] Fighter \n",
      "\t[2] Ranger \n",
      "\t[3] Paladin \n",
      "\t[4] Barbarian \n",
      "\t[5] Cleric \n",
      "\t[6] Druid \n",
      "\t[7] Thief \n",
      "\t[8] Mage \n",
      "\t[9] Sorcerer \n"
     ]
    },
    {
     "name": "stdin",
     "output_type": "stream",
     "text": [
      "> 1\n"
     ]
    },
    {
     "name": "stdout",
     "output_type": "stream",
     "text": [
      "\n",
      "Thorbag\t\t(Lvl 1)\n",
      "=-=-=-=-=-=-=-=-=-=-=-=-=-=-=-=-==-=-=-=-=-=-=-=\n",
      "Sex: Male    Race: Human    Class: Fighter\n",
      "\n",
      "      STR  [10]      WIS  [10]\n",
      "      DEX  [10]      INT  [10]\n",
      "      CON  [10]      CHR  [10]\n",
      "\n"
     ]
    },
    {
     "name": "stdin",
     "output_type": "stream",
     "text": [
      "\tAre you sure (Y/n)? y\n",
      "Who shall enter the Dragon's Lair?  Senoa\n"
     ]
    },
    {
     "name": "stdout",
     "output_type": "stream",
     "text": [
      "Gender?\n",
      "\t[1] Male\n",
      "\t[2] Female\n"
     ]
    },
    {
     "name": "stdin",
     "output_type": "stream",
     "text": [
      ">  2\n"
     ]
    },
    {
     "name": "stdout",
     "output_type": "stream",
     "text": [
      "Race (1-7)?\n",
      "\t[1] Human \n",
      "\t[2] Elf \n",
      "\t[3] HalfElf \n",
      "\t[4] Dwarf \n",
      "\t[5] Gnome \n",
      "\t[6] Halfling \n",
      "\t[7] HalfOrc \n"
     ]
    },
    {
     "name": "stdin",
     "output_type": "stream",
     "text": [
      "> 1\n"
     ]
    },
    {
     "name": "stdout",
     "output_type": "stream",
     "text": [
      "Class (1-9)?\n",
      "\t[1] Fighter \n",
      "\t[2] Ranger \n",
      "\t[3] Paladin \n",
      "\t[4] Barbarian \n",
      "\t[5] Cleric \n",
      "\t[6] Druid \n",
      "\t[7] Thief \n",
      "\t[8] Mage \n",
      "\t[9] Sorcerer \n"
     ]
    },
    {
     "name": "stdin",
     "output_type": "stream",
     "text": [
      "> 4\n"
     ]
    },
    {
     "name": "stdout",
     "output_type": "stream",
     "text": [
      "\n",
      "Senoa\t\t(Lvl 1)\n",
      "=-=-=-=-=-=-=-=-=-=-=-=-=-=-=-=-==-=-=-=-=-=-=-=\n",
      "Sex: Female    Race: Human    Class: Barbarian\n",
      "\n",
      "      STR  [10]      WIS  [10]\n",
      "      DEX  [10]      INT  [10]\n",
      "      CON  [10]      CHR  [10]\n",
      "\n"
     ]
    },
    {
     "name": "stdin",
     "output_type": "stream",
     "text": [
      "\tAre you sure (Y/n)? y\n"
     ]
    },
    {
     "name": "stdout",
     "output_type": "stream",
     "text": [
      "The heroes today are...\n",
      "\n",
      "Thorbag\t\t(Lvl 1)\n",
      "=-=-=-=-=-=-=-=-=-=-=-=-=-=-=-=-==-=-=-=-=-=-=-=\n",
      "Sex: Male    Race: Human    Class: Fighter\n",
      "\n",
      "      STR  [10]      WIS  [10]\n",
      "      DEX  [10]      INT  [10]\n",
      "      CON  [10]      CHR  [10]\n",
      "\n",
      "\n",
      "Senoa\t\t(Lvl 1)\n",
      "=-=-=-=-=-=-=-=-=-=-=-=-=-=-=-=-==-=-=-=-=-=-=-=\n",
      "Sex: Female    Race: Human    Class: Barbarian\n",
      "\n",
      "      STR  [10]      WIS  [10]\n",
      "      DEX  [10]      INT  [10]\n",
      "      CON  [10]      CHR  [10]\n",
      "\n"
     ]
    }
   ],
   "source": [
    "player1=CharacterSheet()\n",
    "player2=CharacterSheet()\n",
    "\n",
    "GenerateCharacter(player1)\n",
    "GenerateCharacter(player2)\n",
    "\n",
    "print('The heroes today are...')\n",
    "print(player1)\n",
    "print(player2)"
   ]
  },
  {
   "cell_type": "code",
   "execution_count": 22,
   "id": "6e63d977-2d0c-409d-945c-0672007a3f0e",
   "metadata": {
    "jupyter": {
     "source_hidden": true
    },
    "tags": []
   },
   "outputs": [],
   "source": [
    "#\n",
    "# Solución Propuesta\n",
    "#\n",
    "def MenuRace():\n",
    "    \"\"\"\n",
    "    Muestra un menú para seleccionar raza.\n",
    "    \n",
    "    Devuelve\n",
    "        \n",
    "        Raza seleccionada.\n",
    "    \"\"\"\n",
    "    print('Race (1-7)?')\n",
    "    for race in Race:\n",
    "        print(f'\\t[{race.value}] {race.name} ')\n",
    "    \n",
    "    opt = int(input('>'))\n",
    "    while not (opt in range(1,7+1)):\n",
    "        print('Invalid option, please choose (1-7)')\n",
    "        opt = int(input('>'))\n",
    "    \n",
    "    return Race(opt)\n",
    "\n",
    "def MenuClass():\n",
    "    \"\"\"\n",
    "    Muestra un menú para seleccionar clase.\n",
    "    \n",
    "    Devuelve\n",
    "        \n",
    "        Clase seleccionada.\n",
    "    \"\"\"\n",
    "    print('Class (1-9)?')\n",
    "    for game_class in GameClass:\n",
    "        print(f'\\t[{game_class.value}] {game_class.name} ')\n",
    "    \n",
    "    opt = int(input('>'))\n",
    "    while not (opt in range(1,7+1)):\n",
    "        print('Invalid option, please choose (1-7)')\n",
    "        opt = int(input('>'))\n",
    "    \n",
    "    return GameClass(opt)\n",
    "\n",
    "\n",
    "\n",
    "def GenerateCharacter(p):\n",
    "    \"\"\"\n",
    "    Crea los datos del personaje especificado como parámetro.\n",
    "    \n",
    "    Parámetros de Entrada\n",
    "    \n",
    "        p: Personaje a modificar.\n",
    "    \"\"\"    \n",
    "    answer = \"\"\n",
    "    while answer in ('Nn'):\n",
    "        player_name = input(\"Who shall enter the Dragon's Lair? \")\n",
    "        p.name = player_name\n",
    "\n",
    "        p.sex = MenuSex()\n",
    "        p.race = MenuRace()\n",
    "        p.game_class = MenuClass()\n",
    "    \n",
    "        print(p)\n",
    "        answer = input(\"\\tAre you sure (Y/n)?\")"
   ]
  },
  {
   "cell_type": "code",
   "execution_count": 120,
   "id": "23e7b26b-d540-4343-b890-2e98e1899072",
   "metadata": {
    "tags": []
   },
   "outputs": [],
   "source": [
    "def CreateMenu(title, menu_strings):\n",
    "    '''Create a vertical menu from the given options.\n",
    "    \n",
    "    Parameters:\n",
    "        menu_strings (list of strings): A list of menu titles        \n",
    "    '''\n",
    "    \n",
    "    menu_len = len(menu_strings)\n",
    "    print(f'{title} (1-{menu_len})')\n",
    "    \n",
    "    for id, menu in enumerate(menu_strings):        \n",
    "        print(f'\\t[{id+1}] {menu}')"
   ]
  },
  {
   "cell_type": "code",
   "execution_count": 122,
   "id": "4359f35a-daf2-4efc-a976-7107395e1f51",
   "metadata": {
    "tags": []
   },
   "outputs": [
    {
     "name": "stdout",
     "output_type": "stream",
     "text": [
      "Race? (1-7)\n",
      "\t[1] Human\n",
      "\t[2] Elf\n",
      "\t[3] HalfElf\n",
      "\t[4] Dwarf\n",
      "\t[5] Gnome\n",
      "\t[6] Halfling\n",
      "\t[7] HalfOrc\n",
      "\n",
      "Gender? (1-2)\n",
      "\t[1] Male\n",
      "\t[2] Female\n",
      "\n",
      "Class? (1-9)\n",
      "\t[1] Fighter\n",
      "\t[2] Ranger\n",
      "\t[3] Paladin\n",
      "\t[4] Barbarian\n",
      "\t[5] Cleric\n",
      "\t[6] Druid\n",
      "\t[7] Thief\n",
      "\t[8] Mage\n",
      "\t[9] Sorcerer\n"
     ]
    }
   ],
   "source": [
    "menu_races = [race.name for race in Race]\n",
    "menu_sex = [sex.name for sex in Sex]\n",
    "menu_classes = [game_class.name for game_class in GameClass]\n",
    "CreateMenu(\"Race?\", menu_races)\n",
    "print()\n",
    "CreateMenu(\"Gender?\", menu_sex)\n",
    "print()\n",
    "CreateMenu(\"Class?\",menu_classes)"
   ]
  },
  {
   "cell_type": "code",
   "execution_count": 116,
   "id": "909f97cc-7e55-48ff-b898-ac4bf4ec743d",
   "metadata": {
    "tags": []
   },
   "outputs": [
    {
     "name": "stdout",
     "output_type": "stream",
     "text": [
      "0 Human\n",
      "1 Elf\n",
      "2 HalfElf\n",
      "3 Dwarf\n",
      "4 Gnome\n",
      "5 Halfling\n",
      "6 HalfOrc\n"
     ]
    }
   ],
   "source": [
    "for id,menu in enumerate(menu_races):\n",
    "    print(id, menu)"
   ]
  },
  {
   "cell_type": "code",
   "execution_count": null,
   "id": "d0ac88d1-17d9-4ee0-a241-caacd53cbe88",
   "metadata": {},
   "outputs": [],
   "source": []
  }
 ],
 "metadata": {
  "kernelspec": {
   "display_name": "Python 3 (ipykernel)",
   "language": "python",
   "name": "python3"
  },
  "language_info": {
   "codemirror_mode": {
    "name": "ipython",
    "version": 3
   },
   "file_extension": ".py",
   "mimetype": "text/x-python",
   "name": "python",
   "nbconvert_exporter": "python",
   "pygments_lexer": "ipython3",
   "version": "3.10.2"
  },
  "toc-autonumbering": false,
  "toc-showtags": false
 },
 "nbformat": 4,
 "nbformat_minor": 5
}
